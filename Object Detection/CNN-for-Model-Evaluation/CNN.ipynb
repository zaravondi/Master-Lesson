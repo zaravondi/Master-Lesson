{
 "cells": [
  {
   "cell_type": "markdown",
   "metadata": {},
   "source": [
    "### Eliminating warning in jupyter notebook"
   ]
  },
  {
   "cell_type": "code",
   "execution_count": 1,
   "metadata": {},
   "outputs": [],
   "source": [
    "def warn(*args, **kwargs):\n",
    "    pass\n",
    "import warnings\n",
    "warnings.warn = warn"
   ]
  },
  {
   "cell_type": "code",
   "execution_count": 2,
   "metadata": {},
   "outputs": [
    {
     "name": "stderr",
     "output_type": "stream",
     "text": [
      "Using TensorFlow backend.\n"
     ]
    }
   ],
   "source": [
    "import os\n",
    "from keras.models import Sequential # Initialise our neural network model as a sequential network\n",
    "from keras.layers import Conv2D # Convolution operation\n",
    "from keras.layers import MaxPooling2D # Maxpooling function\n",
    "from keras.layers import Flatten # Converting 2D arrays into a 1D linear vector.\n",
    "from keras.layers import Dense # Perform the full connection of the neural network\n",
    "from keras.preprocessing.image import ImageDataGenerator\n",
    "from IPython.display import display\n",
    "from PIL import Image\n",
    "import cv2\n",
    "import numpy as np\n",
    "from sklearn.metrics import accuracy_score\n",
    "from skimage import io, transform"
   ]
  },
  {
   "cell_type": "markdown",
   "metadata": {},
   "source": [
    "### Convolutional Neural Network — Deep Learning in python"
   ]
  },
  {
   "cell_type": "code",
   "execution_count": 6,
   "metadata": {},
   "outputs": [
    {
     "name": "stdout",
     "output_type": "stream",
     "text": [
      "('Train data size: ', 1531)\n",
      "('Test data size: ', 18)\n",
      "_________________________________________________________________\n",
      "Layer (type)                 Output Shape              Param #   \n",
      "=================================================================\n",
      "conv2d_5 (Conv2D)            (None, 50, 50, 8)         224       \n",
      "_________________________________________________________________\n",
      "max_pooling2d_5 (MaxPooling2 (None, 25, 25, 8)         0         \n",
      "_________________________________________________________________\n",
      "conv2d_6 (Conv2D)            (None, 25, 25, 16)        1168      \n",
      "_________________________________________________________________\n",
      "max_pooling2d_6 (MaxPooling2 (None, 13, 13, 16)        0         \n",
      "_________________________________________________________________\n",
      "flatten_3 (Flatten)          (None, 2704)              0         \n",
      "_________________________________________________________________\n",
      "dense_5 (Dense)              (None, 128)               346240    \n",
      "_________________________________________________________________\n",
      "dense_6 (Dense)              (None, 2)                 258       \n",
      "=================================================================\n",
      "Total params: 347,890\n",
      "Trainable params: 347,890\n",
      "Non-trainable params: 0\n",
      "_________________________________________________________________\n",
      "None\n",
      "('Train data shape: ', (1531, 50, 50, 3))\n",
      "Epoch 1/10\n",
      "1531/1531 [==============================] - 4s 3ms/step - loss: 0.2546 - acc: 0.9099\n",
      "Epoch 2/10\n",
      "1531/1531 [==============================] - 2s 1ms/step - loss: 0.1126 - acc: 0.9647\n",
      "Epoch 3/10\n",
      "1531/1531 [==============================] - 2s 1ms/step - loss: 0.0930 - acc: 0.9719\n",
      "Epoch 4/10\n",
      "1531/1531 [==============================] - 2s 1ms/step - loss: 0.0603 - acc: 0.9817\n",
      "Epoch 5/10\n",
      "1531/1531 [==============================] - 2s 1ms/step - loss: 0.0780 - acc: 0.9739\n",
      "Epoch 6/10\n",
      "1531/1531 [==============================] - 2s 1ms/step - loss: 0.0418 - acc: 0.9882\n",
      "Epoch 7/10\n",
      "1531/1531 [==============================] - 2s 1ms/step - loss: 0.0295 - acc: 0.9876\n",
      "Epoch 8/10\n",
      "1531/1531 [==============================] - 2s 1ms/step - loss: 0.0217 - acc: 0.9935\n",
      "Epoch 9/10\n",
      "1531/1531 [==============================] - 3s 2ms/step - loss: 0.0131 - acc: 0.9967\n",
      "Epoch 10/10\n",
      "1531/1531 [==============================] - 2s 1ms/step - loss: 0.0091 - acc: 0.9993\n",
      "('Accuracy score:', 0.8333333333333334)\n"
     ]
    }
   ],
   "source": [
    "def cnn_classifier():\n",
    "    cnn = Sequential()\n",
    "    cnn.add(Conv2D(8, (3,3), input_shape = (50, 50, 3), padding='same', activation = 'relu'))\n",
    "    cnn.add(MaxPooling2D(pool_size=(2, 2), padding='same'))\n",
    "    cnn.add(Conv2D(16, (3,3), padding='same', activation = 'relu'))\n",
    "    cnn.add(MaxPooling2D(pool_size=(2, 2), padding='same'))\n",
    "    cnn.add(Flatten())\n",
    "    cnn.add(Dense(128, activation = 'relu'))\n",
    "    cnn.add(Dense(2, activation = 'softmax'))\n",
    "    cnn.compile(optimizer = 'adam', loss = 'binary_crossentropy', metrics = ['accuracy'])\n",
    "    print(cnn.summary())\n",
    "    return cnn\n",
    "\n",
    "def reshaped_image(image):\n",
    "    return transform.resize(image,(50,50,3)) \n",
    "\n",
    "def load_images_from_folder():\n",
    "    Images = os.listdir(\"./Dataset/\")\n",
    "    train_images = []\n",
    "    train_labels = []\n",
    "    for image in Images:\n",
    "            if image[-4:] == 'jpeg':\n",
    "                path = os.path.join(\"./Dataset/\", image)\n",
    "                img = cv2.imread(path)\n",
    "                train_images.append(reshaped_image(img))\n",
    "                label_file = image[:-5] + '.txt'\n",
    "                with open(\"./Dataset\"+\"/\"+label_file) as f:\n",
    "                    content = f.readlines()\n",
    "                    label = int(float(content[0]))\n",
    "                    l = [0, 0]\n",
    "                    l[label] = 1 # 1=car and 0=not car\n",
    "                    train_labels.append(l)\n",
    "    return np.array(train_images), np.array(train_labels)\n",
    "\n",
    "def load_images_from_folder_for_test():\n",
    "    Images = os.listdir(\"./Dataset/test1\")\n",
    "    test_images = []\n",
    "    test_labels = []\n",
    "    for image in Images:\n",
    "            if image[-4:] == 'jpeg':\n",
    "                path = os.path.join(\"./Dataset/test1\", image)\n",
    "                img = cv2.imread(path)\n",
    "                test_images.append(reshaped_image(img))\n",
    "                label_file = image[:-5] + '.txt'\n",
    "                with open(\"./Dataset/test1\"+\"/\"+label_file) as f:\n",
    "                    content = f.readlines()\n",
    "                    label = int(float(content[0]))\n",
    "                    l = [0, 0]\n",
    "                    l[label] = 1 # 1=car and 0=not car\n",
    "                    test_labels.append(l)\n",
    "    return np.array(test_images), np.array(test_labels)\n",
    "        \n",
    "def train_test_split(train_data, train_labels, fraction):\n",
    "    index = int(len(train_data)*fraction)\n",
    "    return train_data[:index], train_labels[:index], train_data[index:], train_labels[index:]\n",
    "\n",
    "train_data, train_labels = load_images_from_folder()\n",
    "test_data, test_labels = load_images_from_folder_for_test()\n",
    "fraction = 0.8\n",
    "#train_data, train_labels, test_data, test_labels = train_test_split(train_data, train_labels, fraction)\n",
    "print (\"Train data size: \", len(train_data))\n",
    "print (\"Test data size: \", len(test_data))\n",
    "\n",
    "cnn = cnn_classifier()\n",
    "\n",
    "print (\"Train data shape: \", train_data.shape)\n",
    "#print (\"Test data shape: \", train_labels.shape)\n",
    "\n",
    "idx = np.random.permutation(train_data.shape[0])\n",
    "cnn.fit(train_data[idx], train_labels[idx], epochs = 10)\n",
    "predicted_test_labels = np.argmax(cnn.predict(test_data), axis=1)\n",
    "test_labels = np.argmax(test_labels, axis=1)\n",
    "\n",
    "#print (\"Actual test labels:\", test_labels)\n",
    "#print (\"Predicted test labels:\", predicted_test_labels)\n",
    "\n",
    "print (\"Accuracy score:\", accuracy_score(test_labels, predicted_test_labels))\n"
   ]
  },
  {
   "cell_type": "code",
   "execution_count": 4,
   "metadata": {},
   "outputs": [
    {
     "name": "stdout",
     "output_type": "stream",
     "text": [
      "('Actual test labels:', array([1, 1, 1, 1, 1, 1, 1, 1, 1, 1, 1, 1, 1, 1, 0, 1, 1, 1]))\n",
      "('Predicted test labels:', array([0, 1, 0, 1, 1, 1, 1, 1, 1, 0, 0, 0, 1, 0, 0, 1, 0, 0]))\n"
     ]
    }
   ],
   "source": [
    "print (\"Actual test labels:\", test_labels)\n",
    "print (\"Predicted test labels:\", predicted_test_labels)\n",
    "\n"
   ]
  },
  {
   "cell_type": "code",
   "execution_count": null,
   "metadata": {},
   "outputs": [],
   "source": []
  },
  {
   "cell_type": "code",
   "execution_count": null,
   "metadata": {},
   "outputs": [],
   "source": []
  }
 ],
 "metadata": {
  "kernelspec": {
   "display_name": "Python 2",
   "language": "python",
   "name": "python2"
  },
  "language_info": {
   "codemirror_mode": {
    "name": "ipython",
    "version": 2
   },
   "file_extension": ".py",
   "mimetype": "text/x-python",
   "name": "python",
   "nbconvert_exporter": "python",
   "pygments_lexer": "ipython2",
   "version": "2.7.18"
  }
 },
 "nbformat": 4,
 "nbformat_minor": 2
}
