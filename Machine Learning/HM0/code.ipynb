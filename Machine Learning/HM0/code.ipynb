{
 "cells": [
  {
   "cell_type": "code",
   "execution_count": null,
   "metadata": {},
   "outputs": [],
   "source": [
    "import pandas as pd\n",
    "import seaborn as sns\n",
    "import matplotlib.pyplot as plt\n",
    "from sklearn.svm import SVC\n",
    "from sklearn import svm\n",
    "from sklearn.neural_network import MLPClassifier\n",
    "from sklearn.metrics import confusion_matrix,classification_report\n",
    "from sklearn.preprocessing import StandardScaler, LabelEncoder\n",
    "from sklearn.model_selection import train_test_split\n",
    "%matplotlib inline\n",
    "\n",
    "import scipy.io\n",
    "X=pd.read_csv('dataFeatures.csv', header=None) \n",
    "y=pd.read_csv('dataLabels.csv', header=None)\n",
    "\n",
    "\n",
    "from sklearn import svm\n",
    "from sklearn.svm import SVC\n",
    "from sklearn.model_selection import cross_val_score\n",
    "from sklearn.metrics import confusion_matrix\n",
    "import pandas as pd\n",
    "import itertools\n",
    "import numpy as np\n",
    "import matplotlib.pyplot as plt\n",
    "from sklearn.model_selection import KFold\n",
    "kf = KFold(n_splits=5,random_state=1, shuffle=True)\n",
    "svc = SVC(gamma='scale')\n",
    "scores = list()\n",
    "TP=0\n",
    "TN=0\n",
    "FP=0\n",
    "FN=0\n",
    "\n",
    "\n",
    "\n",
    "y=np.array(y).astype(int)\n",
    "for train_index,test_index in kf.split(X): \n",
    "    print(\"TRAIN:\", train_index, \"TEST:\", test_index)\n",
    "    X_train = X.iloc[train_index]\n",
    "    X_test = X.iloc[test_index]\n",
    "    #y_train = y.iloc[train_index]\n",
    "    #y_test = y.iloc[test_index]\n",
    "    y_train = y[train_index]\n",
    "    y_test = y[test_index]\n",
    "    # clf = svm.SVC().fit(X_train, y_train) \n",
    "    # y_pred=clf.predict(X_test)\n",
    "    # conf_matrix=confusion_matrix(y_test, y_pred)\n",
    "    svc.fit(X_train, y_train)\n",
    "    y_pred = svc.predict(X_test)\n",
    "    scores.append(svc.fit(X_train, y_train).score(X_test, y_test))\n",
    "   # print(train_index)\n",
    "    #print(test_index)\n",
    "    #print(scores)\n",
    "    #print(X_train)\n",
    "    cm = confusion_matrix(y_test, y_pred)\n",
    "    print(cm)\n",
    "    TN=TN+cm[0,0]\n",
    "    TP=TP+cm[1,1]\n",
    "    FP=FP+cm[0,1]\n",
    "    FN=FN+cm[1,0]\n",
    "    print(TN)\n",
    "    print(FP)\n",
    "    print(FN)\n",
    "    print(TP) \n",
    "    \n",
    "   \n",
    "    \n",
    "    \n",
    "\n"
   ]
  },
  {
   "cell_type": "code",
   "execution_count": null,
   "metadata": {},
   "outputs": [],
   "source": [
    "y_pred"
   ]
  },
  {
   "cell_type": "code",
   "execution_count": null,
   "metadata": {},
   "outputs": [],
   "source": []
  }
 ],
 "metadata": {
  "kernelspec": {
   "display_name": "Python 3",
   "language": "python",
   "name": "python3"
  },
  "language_info": {
   "codemirror_mode": {
    "name": "ipython",
    "version": 3
   },
   "file_extension": ".py",
   "mimetype": "text/x-python",
   "name": "python",
   "nbconvert_exporter": "python",
   "pygments_lexer": "ipython3",
   "version": "3.7.4"
  }
 },
 "nbformat": 4,
 "nbformat_minor": 2
}
